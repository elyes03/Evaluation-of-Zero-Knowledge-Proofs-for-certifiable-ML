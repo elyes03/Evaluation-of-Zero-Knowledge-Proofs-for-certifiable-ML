{
 "cells": [
  {
   "cell_type": "code",
   "execution_count": 5,
   "id": "944024a3",
   "metadata": {},
   "outputs": [
    {
     "name": "stdout",
     "output_type": "stream",
     "text": [
      "Downloading https://www.cs.toronto.edu/~kriz/cifar-10-python.tar.gz to ./data\\cifar-10-python.tar.gz\n"
     ]
    },
    {
     "name": "stderr",
     "output_type": "stream",
     "text": [
      "100%|██████████████████████████████████████████████████████████████| 170498071/170498071 [00:15<00:00, 11161684.99it/s]\n"
     ]
    },
    {
     "name": "stdout",
     "output_type": "stream",
     "text": [
      "Extracting ./data\\cifar-10-python.tar.gz to ./data\n",
      "Files already downloaded and verified\n",
      "Epoch 0 - Test Accuracy 10.61\n",
      "Epoch 1 - Test Accuracy 22.15\n",
      "Epoch 2 - Test Accuracy 26.229999999999997\n",
      "Epoch 3 - Test Accuracy 28.09\n",
      "Epoch 4 - Test Accuracy 29.38\n",
      "Epoch 5 - Test Accuracy 30.36\n",
      "Epoch 6 - Test Accuracy 31.11\n",
      "Epoch 7 - Test Accuracy 31.919999999999998\n",
      "Epoch 8 - Test Accuracy 32.42\n",
      "Epoch 9 - Test Accuracy 32.9\n",
      "Final Accuracy 33.36\n"
     ]
    }
   ],
   "source": [
    "import torch\n",
    "import torch.nn as nn\n",
    "from torchvision import datasets, transforms\n",
    "\n",
    "class Logistic_Regression(nn.Module):\n",
    "    def __init__(self):\n",
    "        super().__init__()\n",
    "        self.linear = nn.Linear(32*32*3, 10)\n",
    "\n",
    "    def forward(self, x):\n",
    "        return self.linear(x.view(-1, 32*32*3))\n",
    "\n",
    "    def evaluate(self, test_dataloader):\n",
    "        with torch.no_grad():\n",
    "            total = 0\n",
    "            correct = 0\n",
    "            for data in test_dataloader:\n",
    "                inputs, targets = data\n",
    "                outputs = self.forward(inputs)\n",
    "                _, predicted = torch.max(outputs.data, 1)\n",
    "                total += targets.size(0)\n",
    "                correct += (predicted == targets).sum().item()\n",
    "        return 100 * (correct / total)\n",
    "\n",
    "batch_size = 100\n",
    "epochs = 10\n",
    "lr = 0.001\n",
    "\n",
    "model = Logistic_Regression()\n",
    "criterion = nn.CrossEntropyLoss()\n",
    "opt = torch.optim.SGD(model.parameters(), lr=lr)\n",
    "\n",
    "transform = transforms.Compose([transforms.ToTensor(), transforms.Normalize((0.5, 0.5, 0.5), (0.5, 0.5, 0.5))])\n",
    "\n",
    "training_dataset = datasets.CIFAR10(root='./data', train=True, transform=transform, download=True)\n",
    "test_dataset = datasets.CIFAR10(root='./data', train=False, transform=transform, download=True)\n",
    "\n",
    "training_dataloader = torch.utils.data.DataLoader(training_dataset, batch_size=batch_size, shuffle=True)\n",
    "test_dataloader = torch.utils.data.DataLoader(test_dataset, batch_size=batch_size, shuffle=False)\n",
    "\n",
    "for epoch in range(epochs):\n",
    "    print('Epoch', epoch, '- Test Accuracy', model.evaluate(test_dataloader))\n",
    "    for data in training_dataloader:\n",
    "        opt.zero_grad()\n",
    "        inputs, targets = data\n",
    "        outputs = model(inputs)\n",
    "        loss = criterion(outputs, targets)\n",
    "        loss.backward()\n",
    "        opt.step()\n",
    "\n",
    "print(\"Final Accuracy\", model.evaluate(test_dataloader))\n",
    "\n",
    "torch.save(model.state_dict(), \"./cifar10_logistic_regression.pt\")\n"
   ]
  },
  {
   "cell_type": "code",
   "execution_count": null,
   "id": "bec3c392",
   "metadata": {},
   "outputs": [],
   "source": []
  }
 ],
 "metadata": {
  "kernelspec": {
   "display_name": "Python 3 (ipykernel)",
   "language": "python",
   "name": "python3"
  },
  "language_info": {
   "codemirror_mode": {
    "name": "ipython",
    "version": 3
   },
   "file_extension": ".py",
   "mimetype": "text/x-python",
   "name": "python",
   "nbconvert_exporter": "python",
   "pygments_lexer": "ipython3",
   "version": "3.9.18"
  }
 },
 "nbformat": 4,
 "nbformat_minor": 5
}
