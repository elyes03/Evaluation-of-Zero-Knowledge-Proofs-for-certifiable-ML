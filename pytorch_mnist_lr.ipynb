{
 "cells": [
  {
   "cell_type": "code",
   "execution_count": 1,
   "id": "d45a516d",
   "metadata": {},
   "outputs": [
    {
     "name": "stdout",
     "output_type": "stream",
     "text": [
      "Epoch 0 - Test Accuracy 10.18\n",
      "Epoch 1 - Test Accuracy 90.36\n",
      "Epoch 2 - Test Accuracy 91.2\n",
      "Epoch 3 - Test Accuracy 91.47999999999999\n",
      "Epoch 4 - Test Accuracy 91.7\n",
      "Epoch 5 - Test Accuracy 91.73\n",
      "Epoch 6 - Test Accuracy 91.88\n",
      "Epoch 7 - Test Accuracy 92.10000000000001\n",
      "Epoch 8 - Test Accuracy 92.10000000000001\n",
      "Epoch 9 - Test Accuracy 92.23\n",
      "Final Accuracy 92.0\n"
     ]
    }
   ],
   "source": [
    "import torch\n",
    "import torch.nn as nn\n",
    "from torchvision import datasets, transforms\n",
    "\n",
    "class Logistic_Regression(nn.Module):\n",
    "\tdef __init__(self):\n",
    "\t\tsuper().__init__()\n",
    "\t\tself.linear = nn.Linear(28*28, 10)\n",
    "\n",
    "\tdef forward(self, x):\n",
    "\t\treturn self.linear(x.view(-1, 28*28))\n",
    "\n",
    "\tdef evaluate(self, test_dataloader):\n",
    "\t\twith torch.no_grad():\n",
    "\t\t\ttotal = 0\n",
    "\t\t\tcorrect = 0 \n",
    "\t\t\tfor data in test_dataloader:\n",
    "\t\t\t\tinputs, targets = data\n",
    "\t\t\t\toutputs = self.forward(inputs)\n",
    "\t\t\t\t_, predicted = torch.max(outputs.data, 1)\n",
    "\t\t\t\ttotal += targets.size(0)\n",
    "\t\t\t\tcorrect += (predicted == targets).sum().item()\n",
    "\t\treturn 100*(correct/total)\n",
    "\n",
    "batch_size = 100\n",
    "epochs = 10\n",
    "lr = 0.1\n",
    "\n",
    "model = Logistic_Regression()\n",
    "criterion = nn.CrossEntropyLoss()\n",
    "opt = torch.optim.SGD(model.parameters(), lr = lr)\n",
    "\n",
    "\n",
    "training_dataset = datasets.MNIST(root='./data', train=True, transform=transforms.ToTensor(), download=True)\n",
    "test_dataset = datasets.MNIST(root='./data', train=False, transform=transforms.ToTensor(), download=True)\n",
    "\n",
    "training_dataloader = torch.utils.data.DataLoader(training_dataset, batch_size=batch_size, shuffle=True)\n",
    "test_dataloader = torch.utils.data.DataLoader(test_dataset, batch_size=batch_size, shuffle=False)\n",
    "\n",
    "for epoch in range(epochs):\n",
    "\tprint('Epoch', epoch, '- Test Accuracy', model.evaluate(test_dataloader))\n",
    "\tfor data in training_dataloader:\n",
    "\t\topt.zero_grad()\n",
    "\t\tinputs, targets = data\n",
    "\t\toutputs = model(inputs)\n",
    "\t\tloss = criterion(outputs, targets)\n",
    "\t\tloss.backward()\n",
    "\t\topt.step()\n",
    "\t\n",
    "print(\"Final Accuracy\", model.evaluate(test_dataloader))\n",
    "\n",
    "torch.save(model.state_dict(), \"./mnist_logistic_regression.pt\")"
   ]
  },
  {
   "cell_type": "code",
   "execution_count": null,
   "id": "a2e78144",
   "metadata": {},
   "outputs": [],
   "source": []
  }
 ],
 "metadata": {
  "kernelspec": {
   "display_name": "Python 3 (ipykernel)",
   "language": "python",
   "name": "python3"
  },
  "language_info": {
   "codemirror_mode": {
    "name": "ipython",
    "version": 3
   },
   "file_extension": ".py",
   "mimetype": "text/x-python",
   "name": "python",
   "nbconvert_exporter": "python",
   "pygments_lexer": "ipython3",
   "version": "3.9.18"
  }
 },
 "nbformat": 4,
 "nbformat_minor": 5
}
