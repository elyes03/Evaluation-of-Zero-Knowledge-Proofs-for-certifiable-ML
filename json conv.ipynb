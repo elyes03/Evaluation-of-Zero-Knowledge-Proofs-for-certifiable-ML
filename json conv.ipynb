{
 "cells": [
  {
   "cell_type": "code",
   "execution_count": 2,
   "id": "438e8e8c",
   "metadata": {},
   "outputs": [],
   "source": [
    "import torch\n",
    "import numpy as np\n",
    "import json\n",
    "\n",
    "class NumpyEncoder(json.JSONEncoder):\n",
    "    def default(self, obj):\n",
    "        if isinstance(obj, np.ndarray):\n",
    "            return obj.tolist()\n",
    "        return json.JSONEncoder.default(self, obj)\n",
    "\n",
    "# Load the weights from the .pt file\n",
    "poids = torch.load(\"cifar10_logistic_regression.pt\")\n",
    "\n",
    "# Convert OrderedDict to dictionary\n",
    "if isinstance(poids, torch.nn.ParameterDict) or isinstance(poids, torch.nn.ModuleDict):\n",
    "    poids_dict = poids.state_dict()\n",
    "else:\n",
    "    poids_dict = dict(poids)\n",
    "\n",
    "# Convert tensors to NumPy arrays\n",
    "for key, value in poids_dict.items():\n",
    "    poids_dict[key] = value.cpu().numpy()  # Convert tensors to NumPy arrays\n",
    "\n",
    "# Save the weights to a JSON file\n",
    "with open(\"poidscifar.json\", \"w\") as f:\n",
    "    json.dump(poids_dict, f, cls=NumpyEncoder)\n",
    "\n",
    "\n",
    "\n",
    "\n"
   ]
  },
  {
   "cell_type": "code",
   "execution_count": null,
   "id": "03422961",
   "metadata": {},
   "outputs": [],
   "source": []
  }
 ],
 "metadata": {
  "kernelspec": {
   "display_name": "Python 3 (ipykernel)",
   "language": "python",
   "name": "python3"
  },
  "language_info": {
   "codemirror_mode": {
    "name": "ipython",
    "version": 3
   },
   "file_extension": ".py",
   "mimetype": "text/x-python",
   "name": "python",
   "nbconvert_exporter": "python",
   "pygments_lexer": "ipython3",
   "version": "3.9.18"
  }
 },
 "nbformat": 4,
 "nbformat_minor": 5
}
